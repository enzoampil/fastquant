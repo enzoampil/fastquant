{
 "cells": [
  {
   "cell_type": "markdown",
   "metadata": {},
   "source": [
    "# \"Analyzing PSE disclosures data\"\n",
    "> \"Studying the relationship between JFC's price movements and its company disclosures\"\n",
    "\n",
    "- toc: true\n",
    "- branch: master\n",
    "- badges: true\n",
    "- comments: true\n",
    "- author: Jerome de Leon\n",
    "- categories: [disclosures]"
   ]
  },
  {
   "cell_type": "markdown",
   "metadata": {},
   "source": [
    "<a href=\"https://colab.research.google.com/github/enzoampil/fastquant/blob/master/examples/2020-04-10-disclosures.ipynb\" target=\"_parent\"><img src=\"https://colab.research.google.com/assets/colab-badge.svg\" alt=\"Open In Colab\"/></a>"
   ]
  },
  {
   "cell_type": "code",
   "execution_count": null,
   "metadata": {},
   "outputs": [],
   "source": [
    "# uncomment to install in colab\n",
    "# !pip install -e git+https://github.com/enzoampil/fastquant.git@master#egg=fastquant"
   ]
  },
  {
   "cell_type": "code",
   "execution_count": 1,
   "metadata": {
    "ExecuteTime": {
     "end_time": "2020-04-10T03:37:10.980964Z",
     "start_time": "2020-04-10T03:37:10.879219Z"
    }
   },
   "outputs": [],
   "source": [
    "from fastquant import DisclosuresPSE"
   ]
  },
  {
   "cell_type": "markdown",
   "metadata": {},
   "source": [
    "## fetching company disclosures"
   ]
  },
  {
   "cell_type": "code",
   "execution_count": 2,
   "metadata": {},
   "outputs": [
    {
     "name": "stdout",
     "output_type": "stream",
     "text": [
      "Pulling JFC disclosures summary...\n"
     ]
    },
    {
     "name": "stderr",
     "output_type": "stream",
     "text": [
      "  0%|          | 0/12 [00:00<?, ?it/s]"
     ]
    },
    {
     "name": "stdout",
     "output_type": "stream",
     "text": [
      "1 pages detected!\n",
      "Found 12 disclosures between 1-1-2020 & 5-1-2020 with 4 types:\n",
      "['Press Release' 'Declaration of Cash Dividends'\n",
      " 'Material Information/Transactions' 'Joint Ventures']\n",
      "Pulling details in all JFC disclosures...\n"
     ]
    },
    {
     "name": "stderr",
     "output_type": "stream",
     "text": [
      "100%|██████████| 12/12 [00:09<00:00,  1.21it/s]"
     ]
    },
    {
     "name": "stdout",
     "output_type": "stream",
     "text": [
      "Saved: /home/prometheus/github/research/project/fastquant/python/fastquant/data/JFC_disclosures_1-1-2020_5-1-2020.csv\n"
     ]
    },
    {
     "name": "stderr",
     "output_type": "stream",
     "text": [
      "\n"
     ]
    }
   ],
   "source": [
    "dpse = DisclosuresPSE(symbol='JFC', \n",
    "                      start_date='1-1-2020', \n",
    "                      end_date='5-1-2020'\n",
    "                     )"
   ]
  },
  {
   "cell_type": "code",
   "execution_count": 3,
   "metadata": {
    "scrolled": true
   },
   "outputs": [
    {
     "data": {
      "text/plain": [
       "DisclosuresPSE('JFC', 'all', '1-1-2020', '5-1-2020', True, False)"
      ]
     },
     "execution_count": 3,
     "metadata": {},
     "output_type": "execute_result"
    }
   ],
   "source": [
    "dpse"
   ]
  },
  {
   "cell_type": "code",
   "execution_count": 4,
   "metadata": {},
   "outputs": [
    {
     "data": {
      "text/html": [
       "<div>\n",
       "<style scoped>\n",
       "    .dataframe tbody tr th:only-of-type {\n",
       "        vertical-align: middle;\n",
       "    }\n",
       "\n",
       "    .dataframe tbody tr th {\n",
       "        vertical-align: top;\n",
       "    }\n",
       "\n",
       "    .dataframe thead th {\n",
       "        text-align: right;\n",
       "    }\n",
       "</style>\n",
       "<table border=\"1\" class=\"dataframe\">\n",
       "  <thead>\n",
       "    <tr style=\"text-align: right;\">\n",
       "      <th></th>\n",
       "      <th>Company Name</th>\n",
       "      <th>Template Name</th>\n",
       "      <th>PSE Form Number</th>\n",
       "      <th>Announce Date and Time</th>\n",
       "      <th>Circular Number</th>\n",
       "      <th>edge_no</th>\n",
       "      <th>url</th>\n",
       "    </tr>\n",
       "  </thead>\n",
       "  <tbody>\n",
       "    <tr>\n",
       "      <th>0</th>\n",
       "      <td>Jollibee Foods Corporation</td>\n",
       "      <td>Press Release</td>\n",
       "      <td>4-31</td>\n",
       "      <td>2020-04-15 07:41:00</td>\n",
       "      <td>C02771-2020</td>\n",
       "      <td>2fd88ba354823b280de8473cebbd6407</td>\n",
       "      <td>https://edge.pse.com.ph/openDiscViewer.do?edge...</td>\n",
       "    </tr>\n",
       "    <tr>\n",
       "      <th>1</th>\n",
       "      <td>Jollibee Foods Corporation</td>\n",
       "      <td>Declaration of Cash Dividends</td>\n",
       "      <td>6-1</td>\n",
       "      <td>2020-04-07 10:16:00</td>\n",
       "      <td>C02610-2020</td>\n",
       "      <td>4b9121b34dd8b8e80de8473cebbd6407</td>\n",
       "      <td>https://edge.pse.com.ph/openDiscViewer.do?edge...</td>\n",
       "    </tr>\n",
       "    <tr>\n",
       "      <th>2</th>\n",
       "      <td>Jollibee Foods Corporation</td>\n",
       "      <td>Press Release</td>\n",
       "      <td>4-31</td>\n",
       "      <td>2020-03-20 07:16:00</td>\n",
       "      <td>C02127-2020</td>\n",
       "      <td>a5df62b1a9558fe60de8473cebbd6407</td>\n",
       "      <td>https://edge.pse.com.ph/openDiscViewer.do?edge...</td>\n",
       "    </tr>\n",
       "    <tr>\n",
       "      <th>3</th>\n",
       "      <td>Jollibee Foods Corporation</td>\n",
       "      <td>Press Release</td>\n",
       "      <td>4-31</td>\n",
       "      <td>2020-03-19 07:31:00</td>\n",
       "      <td>C02092-2020</td>\n",
       "      <td>6a7705d00b3e6fb50de8473cebbd6407</td>\n",
       "      <td>https://edge.pse.com.ph/openDiscViewer.do?edge...</td>\n",
       "    </tr>\n",
       "    <tr>\n",
       "      <th>4</th>\n",
       "      <td>Jollibee Foods Corporation</td>\n",
       "      <td>Material Information/Transactions</td>\n",
       "      <td>4-30</td>\n",
       "      <td>2020-03-16 12:49:00</td>\n",
       "      <td>C01925-2020</td>\n",
       "      <td>5b6a51f239ad5a6f0de8473cebbd6407</td>\n",
       "      <td>https://edge.pse.com.ph/openDiscViewer.do?edge...</td>\n",
       "    </tr>\n",
       "  </tbody>\n",
       "</table>\n",
       "</div>"
      ],
      "text/plain": [
       "                 Company Name                      Template Name  \\\n",
       "0  Jollibee Foods Corporation                      Press Release   \n",
       "1  Jollibee Foods Corporation      Declaration of Cash Dividends   \n",
       "2  Jollibee Foods Corporation                      Press Release   \n",
       "3  Jollibee Foods Corporation                      Press Release   \n",
       "4  Jollibee Foods Corporation  Material Information/Transactions   \n",
       "\n",
       "  PSE Form Number Announce Date and Time Circular Number  \\\n",
       "0            4-31    2020-04-15 07:41:00     C02771-2020   \n",
       "1             6-1    2020-04-07 10:16:00     C02610-2020   \n",
       "2            4-31    2020-03-20 07:16:00     C02127-2020   \n",
       "3            4-31    2020-03-19 07:31:00     C02092-2020   \n",
       "4            4-30    2020-03-16 12:49:00     C01925-2020   \n",
       "\n",
       "                            edge_no  \\\n",
       "0  2fd88ba354823b280de8473cebbd6407   \n",
       "1  4b9121b34dd8b8e80de8473cebbd6407   \n",
       "2  a5df62b1a9558fe60de8473cebbd6407   \n",
       "3  6a7705d00b3e6fb50de8473cebbd6407   \n",
       "4  5b6a51f239ad5a6f0de8473cebbd6407   \n",
       "\n",
       "                                                 url  \n",
       "0  https://edge.pse.com.ph/openDiscViewer.do?edge...  \n",
       "1  https://edge.pse.com.ph/openDiscViewer.do?edge...  \n",
       "2  https://edge.pse.com.ph/openDiscViewer.do?edge...  \n",
       "3  https://edge.pse.com.ph/openDiscViewer.do?edge...  \n",
       "4  https://edge.pse.com.ph/openDiscViewer.do?edge...  "
      ]
     },
     "execution_count": 4,
     "metadata": {},
     "output_type": "execute_result"
    }
   ],
   "source": [
    "# summary of each disclosure \n",
    "dpse.company_disclosures.head()"
   ]
  },
  {
   "cell_type": "code",
   "execution_count": 5,
   "metadata": {},
   "outputs": [
    {
     "data": {
      "text/html": [
       "<div>\n",
       "<style scoped>\n",
       "    .dataframe tbody tr th:only-of-type {\n",
       "        vertical-align: middle;\n",
       "    }\n",
       "\n",
       "    .dataframe tbody tr th {\n",
       "        vertical-align: top;\n",
       "    }\n",
       "\n",
       "    .dataframe thead th {\n",
       "        text-align: right;\n",
       "    }\n",
       "</style>\n",
       "<table border=\"1\" class=\"dataframe\">\n",
       "  <thead>\n",
       "    <tr style=\"text-align: right;\">\n",
       "      <th></th>\n",
       "      <th>Company Name</th>\n",
       "      <th>Template Name</th>\n",
       "      <th>PSE Form Number</th>\n",
       "      <th>Announce Date and Time</th>\n",
       "      <th>Circular Number</th>\n",
       "      <th>edge_no</th>\n",
       "      <th>url</th>\n",
       "      <th>disclosure_table</th>\n",
       "      <th>Background/Description of the Disclosure</th>\n",
       "      <th>Subject of the Disclosure</th>\n",
       "    </tr>\n",
       "  </thead>\n",
       "  <tbody>\n",
       "    <tr>\n",
       "      <th>0</th>\n",
       "      <td>Jollibee Foods Corporation</td>\n",
       "      <td>Press Release</td>\n",
       "      <td>4-31</td>\n",
       "      <td>2020-04-15 07:41:00</td>\n",
       "      <td>C02771-2020</td>\n",
       "      <td>2fd88ba354823b280de8473cebbd6407</td>\n",
       "      <td>https://edge.pse.com.ph/openDiscViewer.do?edge...</td>\n",
       "      <td>{\"Title of Each Class\": \"Common\", \"Subject of ...</td>\n",
       "      <td>JFC Reports 2019 Results Based on Audited Fina...</td>\n",
       "      <td>Press Release: 2019 Audited Financial Results</td>\n",
       "    </tr>\n",
       "    <tr>\n",
       "      <th>1</th>\n",
       "      <td>Jollibee Foods Corporation</td>\n",
       "      <td>Declaration of Cash Dividends</td>\n",
       "      <td>6-1</td>\n",
       "      <td>2020-04-07 10:16:00</td>\n",
       "      <td>C02610-2020</td>\n",
       "      <td>4b9121b34dd8b8e80de8473cebbd6407</td>\n",
       "      <td>https://edge.pse.com.ph/openDiscViewer.do?edge...</td>\n",
       "      <td>{\"Title of Each Class\": \"Common\", \"Subject of ...</td>\n",
       "      <td>Jollibee Foods Corporation (JFC) announced tod...</td>\n",
       "      <td>JFC Declares Cash Dividend, Delivery Business ...</td>\n",
       "    </tr>\n",
       "    <tr>\n",
       "      <th>2</th>\n",
       "      <td>Jollibee Foods Corporation</td>\n",
       "      <td>Press Release</td>\n",
       "      <td>4-31</td>\n",
       "      <td>2020-03-20 07:16:00</td>\n",
       "      <td>C02127-2020</td>\n",
       "      <td>a5df62b1a9558fe60de8473cebbd6407</td>\n",
       "      <td>https://edge.pse.com.ph/openDiscViewer.do?edge...</td>\n",
       "      <td>{\"Title of Each Class\": \"Common\", \"Subject of ...</td>\n",
       "      <td>Jollibee Foods Corporation (JFC) Chairman and ...</td>\n",
       "      <td>Jollibee Group allocates Php1 Billion Emergenc...</td>\n",
       "    </tr>\n",
       "    <tr>\n",
       "      <th>3</th>\n",
       "      <td>Jollibee Foods Corporation</td>\n",
       "      <td>Press Release</td>\n",
       "      <td>4-31</td>\n",
       "      <td>2020-03-19 07:31:00</td>\n",
       "      <td>C02092-2020</td>\n",
       "      <td>6a7705d00b3e6fb50de8473cebbd6407</td>\n",
       "      <td>https://edge.pse.com.ph/openDiscViewer.do?edge...</td>\n",
       "      <td>{\"Title of Each Class\": \"Common\", \"Subject of ...</td>\n",
       "      <td>In support of health workers and other frontli...</td>\n",
       "      <td>Jollibee Group Donates Php 100 Million worth o...</td>\n",
       "    </tr>\n",
       "    <tr>\n",
       "      <th>4</th>\n",
       "      <td>Jollibee Foods Corporation</td>\n",
       "      <td>Material Information/Transactions</td>\n",
       "      <td>4-30</td>\n",
       "      <td>2020-03-16 12:49:00</td>\n",
       "      <td>C01925-2020</td>\n",
       "      <td>5b6a51f239ad5a6f0de8473cebbd6407</td>\n",
       "      <td>https://edge.pse.com.ph/openDiscViewer.do?edge...</td>\n",
       "      <td>{\"Title of Each Class\": \"Common\", \"Subject of ...</td>\n",
       "      <td>This provides a brief summary for Jollibee Foo...</td>\n",
       "      <td>Risks, Impact on the Business and Mitigation M...</td>\n",
       "    </tr>\n",
       "  </tbody>\n",
       "</table>\n",
       "</div>"
      ],
      "text/plain": [
       "                 Company Name                      Template Name  \\\n",
       "0  Jollibee Foods Corporation                      Press Release   \n",
       "1  Jollibee Foods Corporation      Declaration of Cash Dividends   \n",
       "2  Jollibee Foods Corporation                      Press Release   \n",
       "3  Jollibee Foods Corporation                      Press Release   \n",
       "4  Jollibee Foods Corporation  Material Information/Transactions   \n",
       "\n",
       "  PSE Form Number Announce Date and Time Circular Number  \\\n",
       "0            4-31    2020-04-15 07:41:00     C02771-2020   \n",
       "1             6-1    2020-04-07 10:16:00     C02610-2020   \n",
       "2            4-31    2020-03-20 07:16:00     C02127-2020   \n",
       "3            4-31    2020-03-19 07:31:00     C02092-2020   \n",
       "4            4-30    2020-03-16 12:49:00     C01925-2020   \n",
       "\n",
       "                            edge_no  \\\n",
       "0  2fd88ba354823b280de8473cebbd6407   \n",
       "1  4b9121b34dd8b8e80de8473cebbd6407   \n",
       "2  a5df62b1a9558fe60de8473cebbd6407   \n",
       "3  6a7705d00b3e6fb50de8473cebbd6407   \n",
       "4  5b6a51f239ad5a6f0de8473cebbd6407   \n",
       "\n",
       "                                                 url  \\\n",
       "0  https://edge.pse.com.ph/openDiscViewer.do?edge...   \n",
       "1  https://edge.pse.com.ph/openDiscViewer.do?edge...   \n",
       "2  https://edge.pse.com.ph/openDiscViewer.do?edge...   \n",
       "3  https://edge.pse.com.ph/openDiscViewer.do?edge...   \n",
       "4  https://edge.pse.com.ph/openDiscViewer.do?edge...   \n",
       "\n",
       "                                    disclosure_table  \\\n",
       "0  {\"Title of Each Class\": \"Common\", \"Subject of ...   \n",
       "1  {\"Title of Each Class\": \"Common\", \"Subject of ...   \n",
       "2  {\"Title of Each Class\": \"Common\", \"Subject of ...   \n",
       "3  {\"Title of Each Class\": \"Common\", \"Subject of ...   \n",
       "4  {\"Title of Each Class\": \"Common\", \"Subject of ...   \n",
       "\n",
       "            Background/Description of the Disclosure  \\\n",
       "0  JFC Reports 2019 Results Based on Audited Fina...   \n",
       "1  Jollibee Foods Corporation (JFC) announced tod...   \n",
       "2  Jollibee Foods Corporation (JFC) Chairman and ...   \n",
       "3  In support of health workers and other frontli...   \n",
       "4  This provides a brief summary for Jollibee Foo...   \n",
       "\n",
       "                           Subject of the Disclosure  \n",
       "0      Press Release: 2019 Audited Financial Results  \n",
       "1  JFC Declares Cash Dividend, Delivery Business ...  \n",
       "2  Jollibee Group allocates Php1 Billion Emergenc...  \n",
       "3  Jollibee Group Donates Php 100 Million worth o...  \n",
       "4  Risks, Impact on the Business and Mitigation M...  "
      ]
     },
     "execution_count": 5,
     "metadata": {},
     "output_type": "execute_result"
    }
   ],
   "source": [
    "# includes details\n",
    "dpse.disclosures_combined.head()"
   ]
  },
  {
   "cell_type": "code",
   "execution_count": 6,
   "metadata": {},
   "outputs": [
    {
     "data": {
      "text/plain": [
       "(6, 2)"
      ]
     },
     "execution_count": 6,
     "metadata": {},
     "output_type": "execute_result"
    }
   ],
   "source": [
    "#get details in each disclosure given edge_no\n",
    "dpse.disclosure_tables['a5df62b1a9558fe60de8473cebbd6407'].shape"
   ]
  },
  {
   "cell_type": "code",
   "execution_count": 7,
   "metadata": {},
   "outputs": [
    {
     "data": {
      "text/plain": [
       "0         Press Release: 2019 Audited Financial Results\n",
       "1     JFC Declares Cash Dividend, Delivery Business ...\n",
       "2     Jollibee Group allocates Php1 Billion Emergenc...\n",
       "3     Jollibee Group Donates Php 100 Million worth o...\n",
       "4     Risks, Impact on the Business and Mitigation M...\n",
       "5     Jollibee Foods Corporation (JFC) and Dim Sum P...\n",
       "6     Results of the 4th Quarter Unaudited Financial...\n",
       "7     Press Release: 2019 4th Quarter Financial Results\n",
       "8           JFC Provides Statement on Business in China\n",
       "9     JFC to Issue US$600 Million Guaranteed Senior ...\n",
       "10    JFC to Issue US$600 Million Guaranteed Senior ...\n",
       "11    JFC Mandates Banks for U.S.$ Senior Guaranteed...\n",
       "Name: Subject of the Disclosure, dtype: object"
      ]
     },
     "execution_count": 7,
     "metadata": {},
     "output_type": "execute_result"
    }
   ],
   "source": [
    "dpse.disclosures_combined['Subject of the Disclosure']"
   ]
  },
  {
   "cell_type": "code",
   "execution_count": 8,
   "metadata": {},
   "outputs": [
    {
     "data": {
      "text/plain": [
       "0     JFC Reports 2019 Results Based on Audited Fina...\n",
       "1     Jollibee Foods Corporation (JFC) announced tod...\n",
       "2     Jollibee Foods Corporation (JFC) Chairman and ...\n",
       "3     In support of health workers and other frontli...\n",
       "4     This provides a brief summary for Jollibee Foo...\n",
       "5     Golden Plate Pte. Ltd. (GPPL), a wholly owned ...\n",
       "6     4th Quarter Unaudited Financial Statements for...\n",
       "7     JFC Same Store Sales Growth Improves, Gains fr...\n",
       "8     Jollibee Foods Corporation makes the following...\n",
       "9     Jollibee Foods Corporation (JFC, the “Guaranto...\n",
       "10    Jollibee Foods Corporation (JFC, the “Guaranto...\n",
       "11    Jollibee Worldwide Pte. Ltd. (JWPL, the “Issue...\n",
       "Name: Background/Description of the Disclosure, dtype: object"
      ]
     },
     "execution_count": 8,
     "metadata": {},
     "output_type": "execute_result"
    }
   ],
   "source": [
    "dpse.disclosures_combined['Background/Description of the Disclosure']"
   ]
  },
  {
   "cell_type": "markdown",
   "metadata": {},
   "source": [
    "## visualization"
   ]
  },
  {
   "cell_type": "code",
   "execution_count": 9,
   "metadata": {},
   "outputs": [
    {
     "data": {
      "text/plain": [
       "array(['Press Release', 'Declaration of Cash Dividends',\n",
       "       'Material Information/Transactions', 'Joint Ventures'],\n",
       "      dtype=object)"
      ]
     },
     "execution_count": 9,
     "metadata": {},
     "output_type": "execute_result"
    }
   ],
   "source": [
    "dpse.disclosure_types"
   ]
  },
  {
   "cell_type": "code",
   "execution_count": 10,
   "metadata": {},
   "outputs": [
    {
     "name": "stdout",
     "output_type": "stream",
     "text": [
      "Pulling JFC stock data...\n"
     ]
    },
    {
     "data": {
      "image/png": "[encoded data removed]",
      "text/plain": [
       "<Figure size 1080x720 with 1 Axes>"
      ]
     },
     "metadata": {},
     "output_type": "display_data"
    }
   ],
   "source": [
    "#all disclosures superposed with percent change\n",
    "fig = dpse.plot_disclosures()"
   ]
  },
  {
   "cell_type": "code",
   "execution_count": 11,
   "metadata": {},
   "outputs": [
    {
     "data": {
      "image/png": "[encoded data removed]",
      "text/plain": [
       "<Figure size 1080x720 with 1 Axes>"
      ]
     },
     "metadata": {},
     "output_type": "display_data"
    }
   ],
   "source": [
    "#all disclosures superposed with close price\n",
    "fig = dpse.plot_disclosures(indicator='close', diff=False, percent=False)"
   ]
  },
  {
   "cell_type": "markdown",
   "metadata": {},
   "source": [
    "## filtering disclosures"
   ]
  },
  {
   "cell_type": "code",
   "execution_count": 12,
   "metadata": {},
   "outputs": [
    {
     "data": {
      "text/html": [
       "<div>\n",
       "<style scoped>\n",
       "    .dataframe tbody tr th:only-of-type {\n",
       "        vertical-align: middle;\n",
       "    }\n",
       "\n",
       "    .dataframe tbody tr th {\n",
       "        vertical-align: top;\n",
       "    }\n",
       "\n",
       "    .dataframe thead th {\n",
       "        text-align: right;\n",
       "    }\n",
       "</style>\n",
       "<table border=\"1\" class=\"dataframe\">\n",
       "  <thead>\n",
       "    <tr style=\"text-align: right;\">\n",
       "      <th></th>\n",
       "      <th>Company Name</th>\n",
       "      <th>Template Name</th>\n",
       "      <th>PSE Form Number</th>\n",
       "      <th>Announce Date and Time</th>\n",
       "      <th>Circular Number</th>\n",
       "      <th>edge_no</th>\n",
       "      <th>url</th>\n",
       "      <th>disclosure_table</th>\n",
       "      <th>Background/Description of the Disclosure</th>\n",
       "      <th>Subject of the Disclosure</th>\n",
       "    </tr>\n",
       "  </thead>\n",
       "  <tbody>\n",
       "    <tr>\n",
       "      <th>5</th>\n",
       "      <td>Jollibee Foods Corporation</td>\n",
       "      <td>[Amend-1]Joint Ventures</td>\n",
       "      <td>4-22</td>\n",
       "      <td>2020-03-13 15:49:00</td>\n",
       "      <td>C01685-2020</td>\n",
       "      <td>21b9a26e7aa00f960de8473cebbd6407</td>\n",
       "      <td>https://edge.pse.com.ph/openDiscViewer.do?edge...</td>\n",
       "      <td>{\"Title of Each Class\": \"COMMON\", \"Subject of ...</td>\n",
       "      <td>Golden Plate Pte. Ltd. (GPPL), a wholly owned ...</td>\n",
       "      <td>Jollibee Foods Corporation (JFC) and Dim Sum P...</td>\n",
       "    </tr>\n",
       "  </tbody>\n",
       "</table>\n",
       "</div>"
      ],
      "text/plain": [
       "                 Company Name            Template Name PSE Form Number  \\\n",
       "5  Jollibee Foods Corporation  [Amend-1]Joint Ventures            4-22   \n",
       "\n",
       "  Announce Date and Time Circular Number                           edge_no  \\\n",
       "5    2020-03-13 15:49:00     C01685-2020  21b9a26e7aa00f960de8473cebbd6407   \n",
       "\n",
       "                                                 url  \\\n",
       "5  https://edge.pse.com.ph/openDiscViewer.do?edge...   \n",
       "\n",
       "                                    disclosure_table  \\\n",
       "5  {\"Title of Each Class\": \"COMMON\", \"Subject of ...   \n",
       "\n",
       "            Background/Description of the Disclosure  \\\n",
       "5  Golden Plate Pte. Ltd. (GPPL), a wholly owned ...   \n",
       "\n",
       "                           Subject of the Disclosure  \n",
       "5  Jollibee Foods Corporation (JFC) and Dim Sum P...  "
      ]
     },
     "execution_count": 12,
     "metadata": {},
     "output_type": "execute_result"
    }
   ],
   "source": [
    "#disclosures co-incident with max percent change\n",
    "maximum = dpse.filter_disclosures()\n",
    "maximum"
   ]
  },
  {
   "cell_type": "code",
   "execution_count": 13,
   "metadata": {},
   "outputs": [
    {
     "data": {
      "text/html": [
       "<div>\n",
       "<style scoped>\n",
       "    .dataframe tbody tr th:only-of-type {\n",
       "        vertical-align: middle;\n",
       "    }\n",
       "\n",
       "    .dataframe tbody tr th {\n",
       "        vertical-align: top;\n",
       "    }\n",
       "\n",
       "    .dataframe thead th {\n",
       "        text-align: right;\n",
       "    }\n",
       "</style>\n",
       "<table border=\"1\" class=\"dataframe\">\n",
       "  <thead>\n",
       "    <tr style=\"text-align: right;\">\n",
       "      <th></th>\n",
       "      <th>Company Name</th>\n",
       "      <th>Template Name</th>\n",
       "      <th>PSE Form Number</th>\n",
       "      <th>Announce Date and Time</th>\n",
       "      <th>Circular Number</th>\n",
       "      <th>edge_no</th>\n",
       "      <th>url</th>\n",
       "      <th>disclosure_table</th>\n",
       "      <th>Background/Description of the Disclosure</th>\n",
       "      <th>Subject of the Disclosure</th>\n",
       "    </tr>\n",
       "  </thead>\n",
       "  <tbody>\n",
       "    <tr>\n",
       "      <th>0</th>\n",
       "      <td>Jollibee Foods Corporation</td>\n",
       "      <td>Press Release</td>\n",
       "      <td>4-31</td>\n",
       "      <td>2020-04-15 07:41:00</td>\n",
       "      <td>C02771-2020</td>\n",
       "      <td>2fd88ba354823b280de8473cebbd6407</td>\n",
       "      <td>https://edge.pse.com.ph/openDiscViewer.do?edge...</td>\n",
       "      <td>{\"Title of Each Class\": \"Common\", \"Subject of ...</td>\n",
       "      <td>JFC Reports 2019 Results Based on Audited Fina...</td>\n",
       "      <td>Press Release: 2019 Audited Financial Results</td>\n",
       "    </tr>\n",
       "  </tbody>\n",
       "</table>\n",
       "</div>"
      ],
      "text/plain": [
       "                 Company Name  Template Name PSE Form Number  \\\n",
       "0  Jollibee Foods Corporation  Press Release            4-31   \n",
       "\n",
       "  Announce Date and Time Circular Number                           edge_no  \\\n",
       "0    2020-04-15 07:41:00     C02771-2020  2fd88ba354823b280de8473cebbd6407   \n",
       "\n",
       "                                                 url  \\\n",
       "0  https://edge.pse.com.ph/openDiscViewer.do?edge...   \n",
       "\n",
       "                                    disclosure_table  \\\n",
       "0  {\"Title of Each Class\": \"Common\", \"Subject of ...   \n",
       "\n",
       "            Background/Description of the Disclosure  \\\n",
       "0  JFC Reports 2019 Results Based on Audited Fina...   \n",
       "\n",
       "                       Subject of the Disclosure  \n",
       "0  Press Release: 2019 Audited Financial Results  "
      ]
     },
     "execution_count": 13,
     "metadata": {},
     "output_type": "execute_result"
    }
   ],
   "source": [
    "#disclosures co-incident with min percent change\n",
    "minimum = dpse.filter_disclosures(operation='min')\n",
    "minimum"
   ]
  },
  {
   "cell_type": "code",
   "execution_count": 14,
   "metadata": {},
   "outputs": [
    {
     "data": {
      "text/plain": [
       "array(['Golden Plate Pte. Ltd. (GPPL), a wholly owned subsidiary of JFC, and DSPL executed a Joint Venture Agreement to establish a joint venture company (the “JV”) to be incorporated in the People’s Republic of China (PRC). The JV shall sign a Unit Franchise Agreement with Tim Ho Wan Pte. Ltd. (“Franchisor”), authorized master franchisor of Tim Ho Wan in the Asia-Pacific, to develop and operate Tim Ho Wan stores in Shanghai and such other cities within the PRC as may be agreed with the Franchisor.'],\n",
       "      dtype=object)"
      ]
     },
     "execution_count": 14,
     "metadata": {},
     "output_type": "execute_result"
    }
   ],
   "source": [
    "#what happened then?\n",
    "maximum['Background/Description of the Disclosure'].values"
   ]
  },
  {
   "cell_type": "code",
   "execution_count": 15,
   "metadata": {},
   "outputs": [
    {
     "data": {
      "text/plain": [
       "array(['Jollibee Foods Corporation (JFC) and Dim Sum Pte. Ltd. (DSPL) Signs Agreement to Expand and Operate the Tim Ho Wan Brand in China.'],\n",
       "      dtype=object)"
      ]
     },
     "execution_count": 15,
     "metadata": {},
     "output_type": "execute_result"
    }
   ],
   "source": [
    "#details\n",
    "maximum['Subject of the Disclosure'].values"
   ]
  },
  {
   "cell_type": "code",
   "execution_count": 16,
   "metadata": {},
   "outputs": [
    {
     "data": {
      "text/plain": [
       "array(['https://edge.pse.com.ph/openDiscViewer.do?edge_no=21b9a26e7aa00f960de8473cebbd6407'],\n",
       "      dtype=object)"
      ]
     },
     "execution_count": 16,
     "metadata": {},
     "output_type": "execute_result"
    }
   ],
   "source": [
    "#get url\n",
    "maximum['url'].values"
   ]
  },
  {
   "cell_type": "code",
   "execution_count": 17,
   "metadata": {},
   "outputs": [
    {
     "data": {
      "text/plain": [
       "array(['JFC Reports 2019 Results Based on Audited Financial Statements'],\n",
       "      dtype=object)"
      ]
     },
     "execution_count": 17,
     "metadata": {},
     "output_type": "execute_result"
    }
   ],
   "source": [
    "#what happened during minimum?\n",
    "minimum['Background/Description of the Disclosure'].values"
   ]
  },
  {
   "cell_type": "code",
   "execution_count": 18,
   "metadata": {},
   "outputs": [
    {
     "data": {
      "text/plain": [
       "array(['Press Release: 2019 Audited Financial Results'], dtype=object)"
      ]
     },
     "execution_count": 18,
     "metadata": {},
     "output_type": "execute_result"
    }
   ],
   "source": [
    "#details\n",
    "minimum['Subject of the Disclosure'].values"
   ]
  },
  {
   "cell_type": "code",
   "execution_count": 19,
   "metadata": {},
   "outputs": [
    {
     "data": {
      "text/plain": [
       "array(['https://edge.pse.com.ph/openDiscViewer.do?edge_no=2fd88ba354823b280de8473cebbd6407'],\n",
       "      dtype=object)"
      ]
     },
     "execution_count": 19,
     "metadata": {},
     "output_type": "execute_result"
    }
   ],
   "source": [
    "#get url\n",
    "minimum['url'].values"
   ]
  },
  {
   "cell_type": "markdown",
   "metadata": {},
   "source": [
    "# Investagrams disclosures"
   ]
  },
  {
   "cell_type": "code",
   "execution_count": 25,
   "metadata": {},
   "outputs": [],
   "source": [
    "from fastquant import DisclosuresInvestagrams"
   ]
  },
  {
   "cell_type": "code",
   "execution_count": 26,
   "metadata": {},
   "outputs": [],
   "source": [
    "dinv = DisclosuresInvestagrams(symbol='JFC', from_date='2018-01-01', to_date='2020-04-01')"
   ]
  },
  {
   "cell_type": "code",
   "execution_count": 27,
   "metadata": {},
   "outputs": [
    {
     "data": {
      "text/html": [
       "<div>\n",
       "<style scoped>\n",
       "    .dataframe tbody tr th:only-of-type {\n",
       "        vertical-align: middle;\n",
       "    }\n",
       "\n",
       "    .dataframe tbody tr th {\n",
       "        vertical-align: top;\n",
       "    }\n",
       "\n",
       "    .dataframe thead th {\n",
       "        text-align: right;\n",
       "    }\n",
       "</style>\n",
       "<table border=\"1\" class=\"dataframe\">\n",
       "  <thead>\n",
       "    <tr style=\"text-align: right;\">\n",
       "      <th></th>\n",
       "      <th>id</th>\n",
       "      <th>time</th>\n",
       "      <th>color</th>\n",
       "      <th>label</th>\n",
       "      <th>Cash Dividends</th>\n",
       "      <th>Ex-Date</th>\n",
       "      <th>Record Date</th>\n",
       "      <th>Payment Date</th>\n",
       "    </tr>\n",
       "  </thead>\n",
       "  <tbody>\n",
       "    <tr>\n",
       "      <th>0</th>\n",
       "      <td>timediv607</td>\n",
       "      <td>2018-04-19</td>\n",
       "      <td>#0496FF</td>\n",
       "      <td>D</td>\n",
       "      <td>1.14</td>\n",
       "      <td>Thu Apr 19, 2018</td>\n",
       "      <td>Tue Apr 24, 2018</td>\n",
       "      <td>Wed May 09, 2018</td>\n",
       "    </tr>\n",
       "    <tr>\n",
       "      <th>1</th>\n",
       "      <td>timediv786</td>\n",
       "      <td>2018-11-21</td>\n",
       "      <td>#0496FF</td>\n",
       "      <td>D</td>\n",
       "      <td>1.34</td>\n",
       "      <td>Wed Nov 21, 2018</td>\n",
       "      <td>Mon Nov 26, 2018</td>\n",
       "      <td>Mon Dec 10, 2018</td>\n",
       "    </tr>\n",
       "    <tr>\n",
       "      <th>2</th>\n",
       "      <td>timediv934</td>\n",
       "      <td>2019-04-23</td>\n",
       "      <td>#0496FF</td>\n",
       "      <td>D</td>\n",
       "      <td>1.23</td>\n",
       "      <td>Tue Apr 23, 2019</td>\n",
       "      <td>Fri Apr 26, 2019</td>\n",
       "      <td>Thu May 09, 2019</td>\n",
       "    </tr>\n",
       "    <tr>\n",
       "      <th>3</th>\n",
       "      <td>timediv1112</td>\n",
       "      <td>2019-11-21</td>\n",
       "      <td>#0496FF</td>\n",
       "      <td>D</td>\n",
       "      <td>1.35</td>\n",
       "      <td>Thu Nov 21, 2019</td>\n",
       "      <td>Tue Nov 26, 2019</td>\n",
       "      <td>Tue Dec 10, 2019</td>\n",
       "    </tr>\n",
       "  </tbody>\n",
       "</table>\n",
       "</div>"
      ],
      "text/plain": [
       "            id       time    color label Cash Dividends            Ex-Date  \\\n",
       "0   timediv607 2018-04-19  #0496FF     D           1.14   Thu Apr 19, 2018   \n",
       "1   timediv786 2018-11-21  #0496FF     D           1.34   Wed Nov 21, 2018   \n",
       "2   timediv934 2019-04-23  #0496FF     D           1.23   Tue Apr 23, 2019   \n",
       "3  timediv1112 2019-11-21  #0496FF     D           1.35   Thu Nov 21, 2019   \n",
       "\n",
       "         Record Date       Payment Date  \n",
       "0   Tue Apr 24, 2018   Wed May 09, 2018  \n",
       "1   Mon Nov 26, 2018   Mon Dec 10, 2018  \n",
       "2   Fri Apr 26, 2019   Thu May 09, 2019  \n",
       "3   Tue Nov 26, 2019   Tue Dec 10, 2019  "
      ]
     },
     "execution_count": 27,
     "metadata": {},
     "output_type": "execute_result"
    }
   ],
   "source": [
    "dinv.dividends"
   ]
  },
  {
   "cell_type": "code",
   "execution_count": 28,
   "metadata": {},
   "outputs": [
    {
     "data": {
      "text/html": [
       "<div>\n",
       "<style scoped>\n",
       "    .dataframe tbody tr th:only-of-type {\n",
       "        vertical-align: middle;\n",
       "    }\n",
       "\n",
       "    .dataframe tbody tr th {\n",
       "        vertical-align: top;\n",
       "    }\n",
       "\n",
       "    .dataframe thead th {\n",
       "        text-align: right;\n",
       "    }\n",
       "</style>\n",
       "<table border=\"1\" class=\"dataframe\">\n",
       "  <thead>\n",
       "    <tr style=\"text-align: right;\">\n",
       "      <th></th>\n",
       "      <th>id</th>\n",
       "      <th>time</th>\n",
       "      <th>color</th>\n",
       "      <th>label</th>\n",
       "      <th>Total Revenue</th>\n",
       "      <th>Net Income</th>\n",
       "      <th>EPS</th>\n",
       "      <th>Date</th>\n",
       "      <th>Period Ending</th>\n",
       "      <th>Revenue Unit</th>\n",
       "      <th>NI Unit</th>\n",
       "      <th>Net Income Amount</th>\n",
       "      <th>Net Income YoY Growth (%)</th>\n",
       "    </tr>\n",
       "  </thead>\n",
       "  <tbody>\n",
       "    <tr>\n",
       "      <th>0</th>\n",
       "      <td>timeearnings4820175</td>\n",
       "      <td>2018-04-11 06:26:00</td>\n",
       "      <td>#DC143C</td>\n",
       "      <td>E</td>\n",
       "      <td>133.39</td>\n",
       "      <td>6.67B (10.23%)</td>\n",
       "      <td>6.58</td>\n",
       "      <td>Wed Apr 11, 2018</td>\n",
       "      <td>Dec 31, 2017</td>\n",
       "      <td>B</td>\n",
       "      <td>B (%)</td>\n",
       "      <td>6.67</td>\n",
       "      <td>10.23</td>\n",
       "    </tr>\n",
       "    <tr>\n",
       "      <th>1</th>\n",
       "      <td>timeearnings4820181</td>\n",
       "      <td>2018-05-10 00:32:00</td>\n",
       "      <td>#DC143C</td>\n",
       "      <td>E</td>\n",
       "      <td>35.05</td>\n",
       "      <td>1.67B (13.14%)</td>\n",
       "      <td>1.66</td>\n",
       "      <td>Thu May 10, 2018</td>\n",
       "      <td>Mar 31, 2018</td>\n",
       "      <td>B</td>\n",
       "      <td>B (%)</td>\n",
       "      <td>1.67</td>\n",
       "      <td>13.14</td>\n",
       "    </tr>\n",
       "    <tr>\n",
       "      <th>2</th>\n",
       "      <td>timeearnings4820182</td>\n",
       "      <td>2018-08-14 01:21:00</td>\n",
       "      <td>#DC143C</td>\n",
       "      <td>E</td>\n",
       "      <td>40.78</td>\n",
       "      <td>2.1B (10.55%)</td>\n",
       "      <td>2.07</td>\n",
       "      <td>Tue Aug 14, 2018</td>\n",
       "      <td>Jun 30, 2018</td>\n",
       "      <td>B</td>\n",
       "      <td>B (%)</td>\n",
       "      <td>2.10</td>\n",
       "      <td>10.55</td>\n",
       "    </tr>\n",
       "    <tr>\n",
       "      <th>3</th>\n",
       "      <td>timeearnings4820183</td>\n",
       "      <td>2018-11-12 05:18:00</td>\n",
       "      <td>#DC143C</td>\n",
       "      <td>E</td>\n",
       "      <td>40.49</td>\n",
       "      <td>1.93B (26.90%)</td>\n",
       "      <td>1.87</td>\n",
       "      <td>Mon Nov 12, 2018</td>\n",
       "      <td>Sep 30, 2018</td>\n",
       "      <td>B</td>\n",
       "      <td>B (%)</td>\n",
       "      <td>1.93</td>\n",
       "      <td>26.90</td>\n",
       "    </tr>\n",
       "    <tr>\n",
       "      <th>4</th>\n",
       "      <td>timeearnings4820185</td>\n",
       "      <td>2019-04-11 00:33:00</td>\n",
       "      <td>#DC143C</td>\n",
       "      <td>E</td>\n",
       "      <td>164.35</td>\n",
       "      <td>7.77B (16.47%)</td>\n",
       "      <td>7.66</td>\n",
       "      <td>Thu Apr 11, 2019</td>\n",
       "      <td>Dec 31, 2018</td>\n",
       "      <td>B</td>\n",
       "      <td>B (%)</td>\n",
       "      <td>7.77</td>\n",
       "      <td>16.47</td>\n",
       "    </tr>\n",
       "    <tr>\n",
       "      <th>5</th>\n",
       "      <td>timeearnings4820191</td>\n",
       "      <td>2019-05-15 06:37:00</td>\n",
       "      <td>#DC143C</td>\n",
       "      <td>E</td>\n",
       "      <td>40.62</td>\n",
       "      <td>1.43B (-14.06%)</td>\n",
       "      <td>1.41</td>\n",
       "      <td>Wed May 15, 2019</td>\n",
       "      <td>Mar 31, 2019</td>\n",
       "      <td>B</td>\n",
       "      <td>B (-%)</td>\n",
       "      <td>1.43</td>\n",
       "      <td>-14.06</td>\n",
       "    </tr>\n",
       "    <tr>\n",
       "      <th>6</th>\n",
       "      <td>timeearnings4820192</td>\n",
       "      <td>2019-08-05 07:13:00</td>\n",
       "      <td>#DC143C</td>\n",
       "      <td>E</td>\n",
       "      <td>44.22</td>\n",
       "      <td>985.48M (-53.10%)</td>\n",
       "      <td>1.03</td>\n",
       "      <td>Mon Aug 05, 2019</td>\n",
       "      <td>Jun 30, 2019</td>\n",
       "      <td>B</td>\n",
       "      <td>M (-%)</td>\n",
       "      <td>985.48</td>\n",
       "      <td>-53.10</td>\n",
       "    </tr>\n",
       "    <tr>\n",
       "      <th>7</th>\n",
       "      <td>timeearnings4820193</td>\n",
       "      <td>2019-11-14 03:46:00</td>\n",
       "      <td>#DC143C</td>\n",
       "      <td>E</td>\n",
       "      <td>45.17</td>\n",
       "      <td>2.01B (4.48%)</td>\n",
       "      <td>1.71</td>\n",
       "      <td>Thu Nov 14, 2019</td>\n",
       "      <td>Sep 30, 2019</td>\n",
       "      <td>B</td>\n",
       "      <td>B (%)</td>\n",
       "      <td>2.01</td>\n",
       "      <td>4.48</td>\n",
       "    </tr>\n",
       "  </tbody>\n",
       "</table>\n",
       "</div>"
      ],
      "text/plain": [
       "                    id                time    color label  Total Revenue  \\\n",
       "0  timeearnings4820175 2018-04-11 06:26:00  #DC143C     E         133.39   \n",
       "1  timeearnings4820181 2018-05-10 00:32:00  #DC143C     E          35.05   \n",
       "2  timeearnings4820182 2018-08-14 01:21:00  #DC143C     E          40.78   \n",
       "3  timeearnings4820183 2018-11-12 05:18:00  #DC143C     E          40.49   \n",
       "4  timeearnings4820185 2019-04-11 00:33:00  #DC143C     E         164.35   \n",
       "5  timeearnings4820191 2019-05-15 06:37:00  #DC143C     E          40.62   \n",
       "6  timeearnings4820192 2019-08-05 07:13:00  #DC143C     E          44.22   \n",
       "7  timeearnings4820193 2019-11-14 03:46:00  #DC143C     E          45.17   \n",
       "\n",
       "           Net Income    EPS               Date  Period Ending Revenue Unit  \\\n",
       "0      6.67B (10.23%)   6.58   Wed Apr 11, 2018   Dec 31, 2017            B   \n",
       "1      1.67B (13.14%)   1.66   Thu May 10, 2018   Mar 31, 2018            B   \n",
       "2       2.1B (10.55%)   2.07   Tue Aug 14, 2018   Jun 30, 2018            B   \n",
       "3      1.93B (26.90%)   1.87   Mon Nov 12, 2018   Sep 30, 2018            B   \n",
       "4      7.77B (16.47%)   7.66   Thu Apr 11, 2019   Dec 31, 2018            B   \n",
       "5     1.43B (-14.06%)   1.41   Wed May 15, 2019   Mar 31, 2019            B   \n",
       "6   985.48M (-53.10%)   1.03   Mon Aug 05, 2019   Jun 30, 2019            B   \n",
       "7       2.01B (4.48%)   1.71   Thu Nov 14, 2019   Sep 30, 2019            B   \n",
       "\n",
       "   NI Unit  Net Income Amount Net Income YoY Growth (%)  \n",
       "0    B (%)               6.67                     10.23  \n",
       "1    B (%)               1.67                     13.14  \n",
       "2    B (%)               2.10                     10.55  \n",
       "3    B (%)               1.93                     26.90  \n",
       "4    B (%)               7.77                     16.47  \n",
       "5   B (-%)               1.43                    -14.06  \n",
       "6   M (-%)             985.48                    -53.10  \n",
       "7    B (%)               2.01                      4.48  "
      ]
     },
     "execution_count": 28,
     "metadata": {},
     "output_type": "execute_result"
    }
   ],
   "source": [
    "dinv.earnings"
   ]
  }
 ],
 "metadata": {
  "kernelspec": {
   "display_name": "Python 3",
   "language": "python",
   "name": "python3"
  },
  "language_info": {
   "codemirror_mode": {
    "name": "ipython",
    "version": 3
   },
   "file_extension": ".py",
   "mimetype": "text/x-python",
   "name": "python",
   "nbconvert_exporter": "python",
   "pygments_lexer": "ipython3",
   "version": "3.8.3"
  },
  "toc": {
   "base_numbering": 1,
   "nav_menu": {},
   "number_sections": true,
   "sideBar": true,
   "skip_h1_title": false,
   "title_cell": "Table of Contents",
   "title_sidebar": "Contents",
   "toc_cell": false,
   "toc_position": {},
   "toc_section_display": true,
   "toc_window_display": false
  }
 },
 "nbformat": 4,
 "nbformat_minor": 4
}
